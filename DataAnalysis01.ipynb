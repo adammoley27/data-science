{
  "nbformat": 4,
  "nbformat_minor": 0,
  "metadata": {
    "colab": {
      "provenance": [],
      "authorship_tag": "ABX9TyPX3PiR6MBPUC3U+sHjmAu0",
      "include_colab_link": true
    },
    "kernelspec": {
      "name": "python3",
      "display_name": "Python 3"
    },
    "language_info": {
      "name": "python"
    }
  },
  "cells": [
    {
      "cell_type": "markdown",
      "metadata": {
        "id": "view-in-github",
        "colab_type": "text"
      },
      "source": [
        "<a href=\"https://colab.research.google.com/github/adammoley27/data-science/blob/main/DataAnalysis01.ipynb\" target=\"_parent\"><img src=\"https://colab.research.google.com/assets/colab-badge.svg\" alt=\"Open In Colab\"/></a>"
      ]
    },
    {
      "cell_type": "code",
      "execution_count": null,
      "metadata": {
        "colab": {
          "base_uri": "https://localhost:8080/"
        },
        "id": "wyTlrRiNW5xr",
        "outputId": "338719aa-8654-431e-e9df-6e3cfb3e9dbd"
      },
      "outputs": [
        {
          "output_type": "stream",
          "name": "stdout",
          "text": [
            "Mounted at /content/drive\n"
          ]
        }
      ],
      "source": [
        "from google.colab import drive\n",
        "drive.mount('/content/drive')"
      ]
    },
    {
      "cell_type": "code",
      "source": [
        "import pandas as pd\n",
        "import matplotlib.pyplot as plt\n",
        "\n",
        "path=\"/content/drive/MyDrive/TWTR.csv\"\n",
        "df= pd.read_csv(path)\n",
        "\n",
        "\n",
        "df.describe\n"
      ],
      "metadata": {
        "colab": {
          "base_uri": "https://localhost:8080/"
        },
        "id": "TguIkayhaAml",
        "outputId": "11ce685a-0e3f-4dab-a7bb-b1791df6b3b0"
      },
      "execution_count": 15,
      "outputs": [
        {
          "output_type": "execute_result",
          "data": {
            "text/plain": [
              "<bound method NDFrame.describe of             Date       Open       High        Low      Close  Adj Close  \\\n",
              "0      11/7/2013  45.099998  50.090000  44.000000  44.900002  44.900002   \n",
              "1      11/8/2013  45.930000  46.939999  40.685001  41.650002  41.650002   \n",
              "2     11/11/2013  40.500000  43.000000  39.400002  42.900002  42.900002   \n",
              "3     11/12/2013  43.660000  43.779999  41.830002  41.900002  41.900002   \n",
              "4     11/13/2013  41.029999  42.869999  40.759998  42.599998  42.599998   \n",
              "...          ...        ...        ...        ...        ...        ...   \n",
              "2259  10/28/2022        NaN        NaN        NaN        NaN        NaN   \n",
              "2260  10/31/2022        NaN        NaN        NaN        NaN        NaN   \n",
              "2261   11/1/2022        NaN        NaN        NaN        NaN        NaN   \n",
              "2262   11/2/2022        NaN        NaN        NaN        NaN        NaN   \n",
              "2263   11/3/2022        NaN        NaN        NaN        NaN        NaN   \n",
              "\n",
              "           Volume  \n",
              "0     117701670.0  \n",
              "1      27925307.0  \n",
              "2      16113941.0  \n",
              "3       6316755.0  \n",
              "4       8688325.0  \n",
              "...           ...  \n",
              "2259          NaN  \n",
              "2260          NaN  \n",
              "2261          NaN  \n",
              "2262          NaN  \n",
              "2263          NaN  \n",
              "\n",
              "[2264 rows x 7 columns]>"
            ]
          },
          "metadata": {},
          "execution_count": 15
        }
      ]
    },
    {
      "cell_type": "code",
      "source": [
        "df.head"
      ],
      "metadata": {
        "colab": {
          "base_uri": "https://localhost:8080/"
        },
        "id": "rZFJR0VWfuCv",
        "outputId": "940614e3-fa5b-4e7a-8520-9ff76f23b840"
      },
      "execution_count": 17,
      "outputs": [
        {
          "output_type": "execute_result",
          "data": {
            "text/plain": [
              "<bound method NDFrame.head of             Date       Open       High        Low      Close  Adj Close  \\\n",
              "0      11/7/2013  45.099998  50.090000  44.000000  44.900002  44.900002   \n",
              "1      11/8/2013  45.930000  46.939999  40.685001  41.650002  41.650002   \n",
              "2     11/11/2013  40.500000  43.000000  39.400002  42.900002  42.900002   \n",
              "3     11/12/2013  43.660000  43.779999  41.830002  41.900002  41.900002   \n",
              "4     11/13/2013  41.029999  42.869999  40.759998  42.599998  42.599998   \n",
              "...          ...        ...        ...        ...        ...        ...   \n",
              "2259  10/28/2022        NaN        NaN        NaN        NaN        NaN   \n",
              "2260  10/31/2022        NaN        NaN        NaN        NaN        NaN   \n",
              "2261   11/1/2022        NaN        NaN        NaN        NaN        NaN   \n",
              "2262   11/2/2022        NaN        NaN        NaN        NaN        NaN   \n",
              "2263   11/3/2022        NaN        NaN        NaN        NaN        NaN   \n",
              "\n",
              "           Volume  \n",
              "0     117701670.0  \n",
              "1      27925307.0  \n",
              "2      16113941.0  \n",
              "3       6316755.0  \n",
              "4       8688325.0  \n",
              "...           ...  \n",
              "2259          NaN  \n",
              "2260          NaN  \n",
              "2261          NaN  \n",
              "2262          NaN  \n",
              "2263          NaN  \n",
              "\n",
              "[2264 rows x 7 columns]>"
            ]
          },
          "metadata": {},
          "execution_count": 17
        }
      ]
    },
    {
      "cell_type": "code",
      "source": [
        "df"
      ],
      "metadata": {
        "colab": {
          "base_uri": "https://localhost:8080/",
          "height": 423
        },
        "id": "QRnRQYRVhbKr",
        "outputId": "171b7332-6739-4641-8432-eae32bed924a"
      },
      "execution_count": 20,
      "outputs": [
        {
          "output_type": "execute_result",
          "data": {
            "text/plain": [
              "            Date       Open       High        Low      Close  Adj Close  \\\n",
              "0      11/7/2013  45.099998  50.090000  44.000000  44.900002  44.900002   \n",
              "1      11/8/2013  45.930000  46.939999  40.685001  41.650002  41.650002   \n",
              "2     11/11/2013  40.500000  43.000000  39.400002  42.900002  42.900002   \n",
              "3     11/12/2013  43.660000  43.779999  41.830002  41.900002  41.900002   \n",
              "4     11/13/2013  41.029999  42.869999  40.759998  42.599998  42.599998   \n",
              "...          ...        ...        ...        ...        ...        ...   \n",
              "2259  10/28/2022        NaN        NaN        NaN        NaN        NaN   \n",
              "2260  10/31/2022        NaN        NaN        NaN        NaN        NaN   \n",
              "2261   11/1/2022        NaN        NaN        NaN        NaN        NaN   \n",
              "2262   11/2/2022        NaN        NaN        NaN        NaN        NaN   \n",
              "2263   11/3/2022        NaN        NaN        NaN        NaN        NaN   \n",
              "\n",
              "           Volume  \n",
              "0     117701670.0  \n",
              "1      27925307.0  \n",
              "2      16113941.0  \n",
              "3       6316755.0  \n",
              "4       8688325.0  \n",
              "...           ...  \n",
              "2259          NaN  \n",
              "2260          NaN  \n",
              "2261          NaN  \n",
              "2262          NaN  \n",
              "2263          NaN  \n",
              "\n",
              "[2264 rows x 7 columns]"
            ],
            "text/html": [
              "\n",
              "  <div id=\"df-18d243bf-7dbb-46f8-9df2-9b5e6f49fc6e\">\n",
              "    <div class=\"colab-df-container\">\n",
              "      <div>\n",
              "<style scoped>\n",
              "    .dataframe tbody tr th:only-of-type {\n",
              "        vertical-align: middle;\n",
              "    }\n",
              "\n",
              "    .dataframe tbody tr th {\n",
              "        vertical-align: top;\n",
              "    }\n",
              "\n",
              "    .dataframe thead th {\n",
              "        text-align: right;\n",
              "    }\n",
              "</style>\n",
              "<table border=\"1\" class=\"dataframe\">\n",
              "  <thead>\n",
              "    <tr style=\"text-align: right;\">\n",
              "      <th></th>\n",
              "      <th>Date</th>\n",
              "      <th>Open</th>\n",
              "      <th>High</th>\n",
              "      <th>Low</th>\n",
              "      <th>Close</th>\n",
              "      <th>Adj Close</th>\n",
              "      <th>Volume</th>\n",
              "    </tr>\n",
              "  </thead>\n",
              "  <tbody>\n",
              "    <tr>\n",
              "      <th>0</th>\n",
              "      <td>11/7/2013</td>\n",
              "      <td>45.099998</td>\n",
              "      <td>50.090000</td>\n",
              "      <td>44.000000</td>\n",
              "      <td>44.900002</td>\n",
              "      <td>44.900002</td>\n",
              "      <td>117701670.0</td>\n",
              "    </tr>\n",
              "    <tr>\n",
              "      <th>1</th>\n",
              "      <td>11/8/2013</td>\n",
              "      <td>45.930000</td>\n",
              "      <td>46.939999</td>\n",
              "      <td>40.685001</td>\n",
              "      <td>41.650002</td>\n",
              "      <td>41.650002</td>\n",
              "      <td>27925307.0</td>\n",
              "    </tr>\n",
              "    <tr>\n",
              "      <th>2</th>\n",
              "      <td>11/11/2013</td>\n",
              "      <td>40.500000</td>\n",
              "      <td>43.000000</td>\n",
              "      <td>39.400002</td>\n",
              "      <td>42.900002</td>\n",
              "      <td>42.900002</td>\n",
              "      <td>16113941.0</td>\n",
              "    </tr>\n",
              "    <tr>\n",
              "      <th>3</th>\n",
              "      <td>11/12/2013</td>\n",
              "      <td>43.660000</td>\n",
              "      <td>43.779999</td>\n",
              "      <td>41.830002</td>\n",
              "      <td>41.900002</td>\n",
              "      <td>41.900002</td>\n",
              "      <td>6316755.0</td>\n",
              "    </tr>\n",
              "    <tr>\n",
              "      <th>4</th>\n",
              "      <td>11/13/2013</td>\n",
              "      <td>41.029999</td>\n",
              "      <td>42.869999</td>\n",
              "      <td>40.759998</td>\n",
              "      <td>42.599998</td>\n",
              "      <td>42.599998</td>\n",
              "      <td>8688325.0</td>\n",
              "    </tr>\n",
              "    <tr>\n",
              "      <th>...</th>\n",
              "      <td>...</td>\n",
              "      <td>...</td>\n",
              "      <td>...</td>\n",
              "      <td>...</td>\n",
              "      <td>...</td>\n",
              "      <td>...</td>\n",
              "      <td>...</td>\n",
              "    </tr>\n",
              "    <tr>\n",
              "      <th>2259</th>\n",
              "      <td>10/28/2022</td>\n",
              "      <td>NaN</td>\n",
              "      <td>NaN</td>\n",
              "      <td>NaN</td>\n",
              "      <td>NaN</td>\n",
              "      <td>NaN</td>\n",
              "      <td>NaN</td>\n",
              "    </tr>\n",
              "    <tr>\n",
              "      <th>2260</th>\n",
              "      <td>10/31/2022</td>\n",
              "      <td>NaN</td>\n",
              "      <td>NaN</td>\n",
              "      <td>NaN</td>\n",
              "      <td>NaN</td>\n",
              "      <td>NaN</td>\n",
              "      <td>NaN</td>\n",
              "    </tr>\n",
              "    <tr>\n",
              "      <th>2261</th>\n",
              "      <td>11/1/2022</td>\n",
              "      <td>NaN</td>\n",
              "      <td>NaN</td>\n",
              "      <td>NaN</td>\n",
              "      <td>NaN</td>\n",
              "      <td>NaN</td>\n",
              "      <td>NaN</td>\n",
              "    </tr>\n",
              "    <tr>\n",
              "      <th>2262</th>\n",
              "      <td>11/2/2022</td>\n",
              "      <td>NaN</td>\n",
              "      <td>NaN</td>\n",
              "      <td>NaN</td>\n",
              "      <td>NaN</td>\n",
              "      <td>NaN</td>\n",
              "      <td>NaN</td>\n",
              "    </tr>\n",
              "    <tr>\n",
              "      <th>2263</th>\n",
              "      <td>11/3/2022</td>\n",
              "      <td>NaN</td>\n",
              "      <td>NaN</td>\n",
              "      <td>NaN</td>\n",
              "      <td>NaN</td>\n",
              "      <td>NaN</td>\n",
              "      <td>NaN</td>\n",
              "    </tr>\n",
              "  </tbody>\n",
              "</table>\n",
              "<p>2264 rows × 7 columns</p>\n",
              "</div>\n",
              "      <button class=\"colab-df-convert\" onclick=\"convertToInteractive('df-18d243bf-7dbb-46f8-9df2-9b5e6f49fc6e')\"\n",
              "              title=\"Convert this dataframe to an interactive table.\"\n",
              "              style=\"display:none;\">\n",
              "        \n",
              "  <svg xmlns=\"http://www.w3.org/2000/svg\" height=\"24px\"viewBox=\"0 0 24 24\"\n",
              "       width=\"24px\">\n",
              "    <path d=\"M0 0h24v24H0V0z\" fill=\"none\"/>\n",
              "    <path d=\"M18.56 5.44l.94 2.06.94-2.06 2.06-.94-2.06-.94-.94-2.06-.94 2.06-2.06.94zm-11 1L8.5 8.5l.94-2.06 2.06-.94-2.06-.94L8.5 2.5l-.94 2.06-2.06.94zm10 10l.94 2.06.94-2.06 2.06-.94-2.06-.94-.94-2.06-.94 2.06-2.06.94z\"/><path d=\"M17.41 7.96l-1.37-1.37c-.4-.4-.92-.59-1.43-.59-.52 0-1.04.2-1.43.59L10.3 9.45l-7.72 7.72c-.78.78-.78 2.05 0 2.83L4 21.41c.39.39.9.59 1.41.59.51 0 1.02-.2 1.41-.59l7.78-7.78 2.81-2.81c.8-.78.8-2.07 0-2.86zM5.41 20L4 18.59l7.72-7.72 1.47 1.35L5.41 20z\"/>\n",
              "  </svg>\n",
              "      </button>\n",
              "      \n",
              "  <style>\n",
              "    .colab-df-container {\n",
              "      display:flex;\n",
              "      flex-wrap:wrap;\n",
              "      gap: 12px;\n",
              "    }\n",
              "\n",
              "    .colab-df-convert {\n",
              "      background-color: #E8F0FE;\n",
              "      border: none;\n",
              "      border-radius: 50%;\n",
              "      cursor: pointer;\n",
              "      display: none;\n",
              "      fill: #1967D2;\n",
              "      height: 32px;\n",
              "      padding: 0 0 0 0;\n",
              "      width: 32px;\n",
              "    }\n",
              "\n",
              "    .colab-df-convert:hover {\n",
              "      background-color: #E2EBFA;\n",
              "      box-shadow: 0px 1px 2px rgba(60, 64, 67, 0.3), 0px 1px 3px 1px rgba(60, 64, 67, 0.15);\n",
              "      fill: #174EA6;\n",
              "    }\n",
              "\n",
              "    [theme=dark] .colab-df-convert {\n",
              "      background-color: #3B4455;\n",
              "      fill: #D2E3FC;\n",
              "    }\n",
              "\n",
              "    [theme=dark] .colab-df-convert:hover {\n",
              "      background-color: #434B5C;\n",
              "      box-shadow: 0px 1px 3px 1px rgba(0, 0, 0, 0.15);\n",
              "      filter: drop-shadow(0px 1px 2px rgba(0, 0, 0, 0.3));\n",
              "      fill: #FFFFFF;\n",
              "    }\n",
              "  </style>\n",
              "\n",
              "      <script>\n",
              "        const buttonEl =\n",
              "          document.querySelector('#df-18d243bf-7dbb-46f8-9df2-9b5e6f49fc6e button.colab-df-convert');\n",
              "        buttonEl.style.display =\n",
              "          google.colab.kernel.accessAllowed ? 'block' : 'none';\n",
              "\n",
              "        async function convertToInteractive(key) {\n",
              "          const element = document.querySelector('#df-18d243bf-7dbb-46f8-9df2-9b5e6f49fc6e');\n",
              "          const dataTable =\n",
              "            await google.colab.kernel.invokeFunction('convertToInteractive',\n",
              "                                                     [key], {});\n",
              "          if (!dataTable) return;\n",
              "\n",
              "          const docLinkHtml = 'Like what you see? Visit the ' +\n",
              "            '<a target=\"_blank\" href=https://colab.research.google.com/notebooks/data_table.ipynb>data table notebook</a>'\n",
              "            + ' to learn more about interactive tables.';\n",
              "          element.innerHTML = '';\n",
              "          dataTable['output_type'] = 'display_data';\n",
              "          await google.colab.output.renderOutput(dataTable, element);\n",
              "          const docLink = document.createElement('div');\n",
              "          docLink.innerHTML = docLinkHtml;\n",
              "          element.appendChild(docLink);\n",
              "        }\n",
              "      </script>\n",
              "    </div>\n",
              "  </div>\n",
              "  "
            ]
          },
          "metadata": {},
          "execution_count": 20
        }
      ]
    },
    {
      "cell_type": "code",
      "source": [
        "df[\"Low\"].idxmax()"
      ],
      "metadata": {
        "colab": {
          "base_uri": "https://localhost:8080/"
        },
        "id": "sY4oFcaah8iv",
        "outputId": "d44f19cf-0811-41a8-ca53-01d686e3f7c8"
      },
      "execution_count": 25,
      "outputs": [
        {
          "output_type": "execute_result",
          "data": {
            "text/plain": [
              "1838"
            ]
          },
          "metadata": {},
          "execution_count": 25
        }
      ]
    },
    {
      "cell_type": "code",
      "source": [],
      "metadata": {
        "id": "2yOJUzkrxLdf"
      },
      "execution_count": null,
      "outputs": []
    },
    {
      "cell_type": "code",
      "source": [],
      "metadata": {
        "id": "eaaSIvoaxYAL"
      },
      "execution_count": null,
      "outputs": []
    },
    {
      "cell_type": "code",
      "source": [
        "df.columns"
      ],
      "metadata": {
        "colab": {
          "base_uri": "https://localhost:8080/"
        },
        "id": "H_RFY-oWgYdP",
        "outputId": "72ee9ffd-c3ca-4327-dcd6-9d769ddf45ca"
      },
      "execution_count": 19,
      "outputs": [
        {
          "output_type": "execute_result",
          "data": {
            "text/plain": [
              "Index(['Date', 'Open', 'High', 'Low', 'Close', 'Adj Close', 'Volume'], dtype='object')"
            ]
          },
          "metadata": {},
          "execution_count": 19
        }
      ]
    },
    {
      "cell_type": "code",
      "source": [
        "df.shape"
      ],
      "metadata": {
        "colab": {
          "base_uri": "https://localhost:8080/"
        },
        "id": "JUa0zbehfrsG",
        "outputId": "d7d35d05-4553-40f8-b516-69ed95819163"
      },
      "execution_count": 18,
      "outputs": [
        {
          "output_type": "execute_result",
          "data": {
            "text/plain": [
              "(2264, 7)"
            ]
          },
          "metadata": {},
          "execution_count": 18
        }
      ]
    }
  ]
}